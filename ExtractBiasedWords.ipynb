{
 "cells": [
  {
   "cell_type": "code",
   "execution_count": 143,
   "metadata": {},
   "outputs": [],
   "source": [
    "import time\n",
    "import math\n",
    "import os\n",
    "import torch\n",
    "import torch.nn as nn\n",
    "import torch.onnx\n",
    "import numpy as np\n",
    "\n",
    "import pandas as pd\n",
    "\n",
    "from sklearn.decomposition import PCA\n",
    "import pickle\n",
    "import json\n",
    "\n",
    "import matplotlib.pyplot as plt\n",
    "%matplotlib inline\n",
    "\n",
    "from sklearn import metrics\n",
    "from sklearn.cluster import KMeans"
   ]
  },
  {
   "cell_type": "code",
   "execution_count": 144,
   "metadata": {},
   "outputs": [],
   "source": [
    "import re\n",
    "import string\n",
    "from numpy import linalg as LA"
   ]
  },
  {
   "cell_type": "code",
   "execution_count": 145,
   "metadata": {},
   "outputs": [],
   "source": [
    "def load_doc(filename):\n",
    "    file = open(filename, 'r', encoding='utf-8-sig')\n",
    "    text = file.read()\n",
    "    file.close()\n",
    "    return text"
   ]
  },
  {
   "cell_type": "code",
   "execution_count": 146,
   "metadata": {},
   "outputs": [],
   "source": [
    "def load_emb(glove_file, fullLoad=False, n_vecs=20000):\n",
    "    \"\"\" Loads glove vectors from a file \"\"\"\n",
    "    tok2vec = {}\n",
    "    with open(glove_file, 'r') as glove_fh:\n",
    "        for i, row in enumerate(glove_fh):\n",
    "            word, vec = row.split(' ', 1)\n",
    "            tok2vec[word] = np.array([float(n) for n in vec.split(' ')])\n",
    "            if (not fullLoad and i+1 >= n_vecs):\n",
    "                break\n",
    "    return tok2vec"
   ]
  },
  {
   "cell_type": "code",
   "execution_count": 147,
   "metadata": {},
   "outputs": [],
   "source": [
    "def filterVocab(glove,genderwords):\n",
    "    \"\"\" filters words as described in paper remove upper-case letters, digits, or\n",
    "        punctuation, and words longer than 20 characters.\"\"\"\n",
    "    newDict = {}\n",
    "    #regex = re.compile('!\"#$%&\\'()*+,-./:;<=>?@[\\\\]^_`{|}~') \n",
    "    for w in glove:\n",
    "        if len(w)<= 20 and (not re.search(\"\\d\", w)) and (w.islower()) and \\\n",
    "        (not any(p in w for p in string.punctuation)) and w not in genderwords:\n",
    "            newDict[w] = glove[w]\n",
    "    return newDict"
   ]
  },
  {
   "cell_type": "code",
   "execution_count": 148,
   "metadata": {},
   "outputs": [],
   "source": [
    "# save tokens to file, one dialog per line\n",
    "def save_doc(lines, filename):\n",
    "    data = '\\n'.join(lines)\n",
    "    file = open(filename, 'w')\n",
    "    file.write(data)\n",
    "    file.close()"
   ]
  },
  {
   "cell_type": "code",
   "execution_count": 149,
   "metadata": {},
   "outputs": [],
   "source": [
    "def getProjectionHeShe(glove,filterGlove):\n",
    "    B = torch.Tensor(glove['he'] - glove['she'])\n",
    "    WN = torch.cat([torch.Tensor(filterGlove[n]).view(1, -1) for n in filterGlove])\n",
    "    print(WN.shape)\n",
    "    return torch.matmul(WN, B).squeeze().numpy()"
   ]
  },
  {
   "cell_type": "code",
   "execution_count": 150,
   "metadata": {},
   "outputs": [],
   "source": [
    "def getProjectionSubsapace(emb,filteremb, D, var_ratio=0.5, norm=True):\n",
    "\n",
    "    W = filteremb\n",
    "    F = emb\n",
    "#     if norm:\n",
    "#         W = W / W.norm(2, dim=1).view(-1, 1)\n",
    "\n",
    "    C = []\n",
    "    # Stack all of the differences between the gender pairs\n",
    "    for idx in range(len(D)):\n",
    "        idxs = D[idx]\n",
    "        u = F[idxs[0]]\n",
    "        v = F[idxs[1]]\n",
    "        C.append(torch.Tensor((u - v)/2).view(1, -1))\n",
    "        #print(torch.Tensor((u - v)/2))\n",
    "    C = torch.cat(C, dim=0)\n",
    "\n",
    "    print(C.shape)\n",
    "    # Get prinipal components\n",
    "    U, S, V = torch.svd(C)\n",
    "\n",
    "    # Find k such that we capture 100*var_ratio% of the gender variance\n",
    "    var = S**2\n",
    "\n",
    "    norm_var = var/var.sum()\n",
    "    cumul_norm_var = torch.cumsum(norm_var, dim=0)\n",
    "    _, k_idx = cumul_norm_var[cumul_norm_var >= var_ratio].min(dim=0)\n",
    "\n",
    "    \n",
    "    # Get first k components to for gender subspace\n",
    "    B = V[:, :k_idx.data[0]+1]\n",
    "    #loss = torch.matmul(W[N], B).norm(2) ** 2\n",
    "    B = V[:, :1]\n",
    "    \n",
    "    \n",
    "    WN = torch.cat([torch.Tensor(W[n]).view(1, -1) for n in W])\n",
    "    print(WN.shape)\n",
    "    \n",
    "    return torch.matmul(WN, B).squeeze().numpy()"
   ]
  },
  {
   "cell_type": "code",
   "execution_count": 151,
   "metadata": {},
   "outputs": [],
   "source": [
    "def normalizeEmb(emb):\n",
    "    for k in emb.keys():\n",
    "        emb[k] = emb[k]/LA.norm(emb[k])\n",
    "    return emb"
   ]
  },
  {
   "cell_type": "code",
   "execution_count": 9,
   "metadata": {},
   "outputs": [
    {
     "data": {
      "text/plain": [
       "448"
      ]
     },
     "execution_count": 9,
     "metadata": {},
     "output_type": "execute_result"
    }
   ],
   "source": [
    "maleBiasWords = load_doc('/scratch/um367/EMB/wordlists/male_word_file.txt').split('\\n')\n",
    "femaleBiasWords = load_doc('/scratch/um367/EMB/wordlists/female_word_file.txt').split('\\n')\n",
    "genderwords = maleBiasWords + femaleBiasWords\n",
    "len(genderwords)"
   ]
  },
  {
   "cell_type": "code",
   "execution_count": 18,
   "metadata": {},
   "outputs": [
    {
     "data": {
      "text/plain": [
       "50000"
      ]
     },
     "execution_count": 18,
     "metadata": {},
     "output_type": "execute_result"
    }
   ],
   "source": [
    "glove_file = '/scratch/um367/EMB/embeddings/wiki_glove.txt'\n",
    "glove = load_emb(glove_file, fullLoad=False, n_vecs=50000)\n",
    "len(glove)"
   ]
  },
  {
   "cell_type": "code",
   "execution_count": 36,
   "metadata": {},
   "outputs": [],
   "source": [
    "glove = normalizeEmb(glove)"
   ]
  },
  {
   "cell_type": "code",
   "execution_count": 37,
   "metadata": {},
   "outputs": [
    {
     "data": {
      "text/plain": [
       "47699"
      ]
     },
     "execution_count": 37,
     "metadata": {},
     "output_type": "execute_result"
    }
   ],
   "source": [
    "filtered_glove = filterVocab(glove,genderwords)\n",
    "len(filtered_glove) ##47,698"
   ]
  },
  {
   "cell_type": "code",
   "execution_count": 38,
   "metadata": {},
   "outputs": [
    {
     "name": "stdout",
     "output_type": "stream",
     "text": [
      "torch.Size([47699, 300])\n"
     ]
    }
   ],
   "source": [
    "projections = getProjectionHeShe(glove,filtered_glove)"
   ]
  },
  {
   "cell_type": "code",
   "execution_count": 41,
   "metadata": {},
   "outputs": [],
   "source": [
    "sortedP = list(zip(filtered_glove.keys(),projections))\n",
    "sortedP.sort(key = lambda t: t[1])\n",
    "biasedwords = [w for w,p in sortedP]"
   ]
  },
  {
   "cell_type": "code",
   "execution_count": 42,
   "metadata": {},
   "outputs": [],
   "source": [
    "save_doc(biasedwords[-500:], 'gloveMaleBiasedWords.txt')"
   ]
  },
  {
   "cell_type": "code",
   "execution_count": 43,
   "metadata": {},
   "outputs": [],
   "source": [
    "save_doc(biasedwords[:500], 'gloveFemaleBiasedWords.txt')"
   ]
  }
 ],
 "metadata": {
  "kernelspec": {
   "display_name": "Python 3",
   "language": "python",
   "name": "python3"
  },
  "language_info": {
   "codemirror_mode": {
    "name": "ipython",
    "version": 3
   },
   "file_extension": ".py",
   "mimetype": "text/x-python",
   "name": "python",
   "nbconvert_exporter": "python",
   "pygments_lexer": "ipython3",
   "version": "3.6.6"
  }
 },
 "nbformat": 4,
 "nbformat_minor": 2
}
