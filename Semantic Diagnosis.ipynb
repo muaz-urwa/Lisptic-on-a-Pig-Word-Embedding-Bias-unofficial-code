{
 "cells": [
  {
   "cell_type": "code",
   "execution_count": 1,
   "metadata": {},
   "outputs": [],
   "source": [
    "import time\n",
    "import math\n",
    "import os\n",
    "import torch\n",
    "import torch.nn as nn\n",
    "import torch.onnx\n",
    "import numpy as np\n",
    "\n",
    "import pandas as pd\n",
    "\n",
    "from sklearn.decomposition import PCA\n",
    "import pickle\n",
    "import json\n",
    "\n",
    "import matplotlib.pyplot as plt\n",
    "%matplotlib inline\n",
    "\n",
    "from sklearn import metrics\n",
    "from sklearn.cluster import KMeans"
   ]
  },
  {
   "cell_type": "code",
   "execution_count": 19,
   "metadata": {},
   "outputs": [],
   "source": [
    "from numpy import linalg as LA\n",
    "from sklearn.ensemble  import RandomForestClassifier as rfc\n",
    "from sklearn.model_selection import train_test_split\n",
    "from sklearn.metrics import confusion_matrix\n",
    "from sklearn.metrics import classification_report"
   ]
  },
  {
   "cell_type": "code",
   "execution_count": 3,
   "metadata": {},
   "outputs": [],
   "source": [
    "def load_doc(filename):\n",
    "    file = open(filename, 'r', encoding='utf-8-sig')\n",
    "    text = file.read()\n",
    "    file.close()\n",
    "    return text"
   ]
  },
  {
   "cell_type": "code",
   "execution_count": 4,
   "metadata": {},
   "outputs": [],
   "source": [
    "def load_emb(glove_file, fullLoad=False, n_vecs=20000):\n",
    "    \"\"\" Loads glove vectors from a file \"\"\"\n",
    "    tok2vec = {}\n",
    "    with open(glove_file, 'r') as glove_fh:\n",
    "        for i, row in enumerate(glove_fh):\n",
    "            word, vec = row.split(' ', 1)\n",
    "            tok2vec[word] = np.array([float(n) for n in vec.split(' ')])\n",
    "            if (not fullLoad and i+1 >= n_vecs):\n",
    "                break\n",
    "    return tok2vec"
   ]
  },
  {
   "cell_type": "code",
   "execution_count": 5,
   "metadata": {},
   "outputs": [],
   "source": [
    "def clusterPerformance(vectors,labels,verbose = False):\n",
    "    #print(vectors.shape)\n",
    "    accuracy = []\n",
    "    for i in range(20):\n",
    "        kmeans = KMeans(n_clusters=2)\n",
    "        kmeans.fit(vectors)\n",
    "        p = sum(kmeans.labels_ == labels)/ len(labels)\n",
    "        accuracy.append(max(p,1-p))\n",
    "    if verbose:\n",
    "        if p > 1-p:\n",
    "            print([w for w,l,tl in zip(words,kmeans.labels_,labels) if l!=tl])\n",
    "        else:\n",
    "            print([w for w,l,tl in zip(words,kmeans.labels_,labels) if l==tl])\n",
    "    return np.mean(accuracy)"
   ]
  },
  {
   "cell_type": "code",
   "execution_count": 6,
   "metadata": {},
   "outputs": [],
   "source": [
    "def getConceptScore(emb_vecs,concept):\n",
    "    c = emb_vecs[concept]\n",
    "    scrM = []\n",
    "    for w in maleBiasWords:\n",
    "        scrM.append(np.dot(c,emb_vecs[w]))\n",
    "    scrF = []\n",
    "    for w in femaleBiasWords:\n",
    "        scrF.append(np.dot(c,emb_vecs[w]))\n",
    "    return np.abs(np.mean(scrM) - np.mean(scrF))"
   ]
  },
  {
   "cell_type": "code",
   "execution_count": 7,
   "metadata": {},
   "outputs": [],
   "source": [
    "def getConceptVectors(emb_vecs,concepts,maleBiasWords,femaleBiasWords):\n",
    "    scrM = []\n",
    "    for w in maleBiasWords:\n",
    "        features = []\n",
    "        for con in concepts:\n",
    "            c = emb_vecs[con]\n",
    "            features.append(np.dot(c,emb_vecs[w]))\n",
    "        scrM.append(np.array(features))\n",
    "    scrF = []\n",
    "    for w in femaleBiasWords:\n",
    "        features = []\n",
    "        for con in concepts:\n",
    "            c = emb_vecs[con]\n",
    "            features.append(np.dot(c,emb_vecs[w]))\n",
    "        scrF.append(np.array(features))\n",
    "    return scrM,scrF"
   ]
  },
  {
   "cell_type": "code",
   "execution_count": 8,
   "metadata": {},
   "outputs": [],
   "source": [
    "def normalizeEmb(emb):\n",
    "    for k in emb.keys():\n",
    "        emb[k] = emb[k]/LA.norm(emb[k])\n",
    "    return emb"
   ]
  },
  {
   "cell_type": "code",
   "execution_count": 22,
   "metadata": {},
   "outputs": [],
   "source": [
    "def removeProtectedAttribute(emb):\n",
    "    emb = {}\n",
    "    for w in gnglove:\n",
    "        emb[w] = gnglove[w][:299]\n",
    "    return emb"
   ]
  },
  {
   "cell_type": "code",
   "execution_count": 9,
   "metadata": {},
   "outputs": [
    {
     "data": {
      "text/plain": [
       "500"
      ]
     },
     "execution_count": 9,
     "metadata": {},
     "output_type": "execute_result"
    }
   ],
   "source": [
    "maleBiasWords = load_doc('../pig/gloveMaleBiasedWords.txt').split('\\n')\n",
    "len(maleBiasWords)"
   ]
  },
  {
   "cell_type": "code",
   "execution_count": 10,
   "metadata": {},
   "outputs": [
    {
     "data": {
      "text/plain": [
       "500"
      ]
     },
     "execution_count": 10,
     "metadata": {},
     "output_type": "execute_result"
    }
   ],
   "source": [
    "femaleBiasWords = load_doc('../pig/gloveFemaleBiasedWords.txt').split('\\n')\n",
    "len(femaleBiasWords)"
   ]
  },
  {
   "cell_type": "code",
   "execution_count": null,
   "metadata": {},
   "outputs": [],
   "source": [
    "#concepts = ['sport','cloth','family','work','he','she','war','politics']\n",
    "#concepts = ['sports','war','emotion','cloth']\n",
    "\n",
    "#concepts = ['fashion','sports','outdoor','sex','food','baby','cosmetic','power','violence','love','emotion'\\\n",
    "#            ,'religion','science','marriage','politics']\n",
    "\n",
    "#concepts = ['sports','army','religion','travel','crime','politics']\n",
    "concepts = ['sports','army','religion','politics','cloth','food','violence','love','education','sex']"
   ]
  },
  {
   "cell_type": "code",
   "execution_count": 11,
   "metadata": {},
   "outputs": [
    {
     "data": {
      "text/plain": [
       "50000"
      ]
     },
     "execution_count": 11,
     "metadata": {},
     "output_type": "execute_result"
    }
   ],
   "source": [
    "glove_file = '/scratch/um367/EMB/embeddings/wiki_glove.txt'\n",
    "glove = load_emb(glove_file, fullLoad=False, n_vecs=50000)\n",
    "len(glove)"
   ]
  },
  {
   "cell_type": "code",
   "execution_count": 12,
   "metadata": {},
   "outputs": [],
   "source": [
    "glove = normalizeEmb(glove)"
   ]
  },
  {
   "cell_type": "code",
   "execution_count": 15,
   "metadata": {},
   "outputs": [],
   "source": [
    "maleFeatures,femaleFeatures = getConceptVectors(glove,concepts,maleBiasWords,femaleBiasWords)"
   ]
  },
  {
   "cell_type": "code",
   "execution_count": 16,
   "metadata": {},
   "outputs": [],
   "source": [
    "words = femaleBiasWords + maleBiasWords\n",
    "features = femaleFeatures + maleFeatures\n",
    "labels = [False for w in femaleFeatures] + [True for w in maleFeatures]"
   ]
  },
  {
   "cell_type": "code",
   "execution_count": 17,
   "metadata": {},
   "outputs": [
    {
     "name": "stdout",
     "output_type": "stream",
     "text": [
      "(700, 10)\n"
     ]
    }
   ],
   "source": [
    "X = np.array(features)\n",
    "Y = np.array(labels)\n",
    "X_train, X_test, y_train, y_test = train_test_split(X, Y, test_size=0.3, random_state=2018, shuffle=True)\n",
    "print(X_train.shape)"
   ]
  },
  {
   "cell_type": "code",
   "execution_count": 18,
   "metadata": {},
   "outputs": [
    {
     "name": "stdout",
     "output_type": "stream",
     "text": [
      "              precision    recall  f1-score   support\n",
      "\n",
      "       False       0.89      0.89      0.89       151\n",
      "        True       0.89      0.89      0.89       149\n",
      "\n",
      "    accuracy                           0.89       300\n",
      "   macro avg       0.89      0.89      0.89       300\n",
      "weighted avg       0.89      0.89      0.89       300\n",
      "\n"
     ]
    },
    {
     "name": "stderr",
     "output_type": "stream",
     "text": [
      "/home/um367/miniconda3/envs/bert/lib/python3.6/site-packages/sklearn/ensemble/forest.py:245: FutureWarning: The default value of n_estimators will change from 10 in version 0.20 to 100 in 0.22.\n",
      "  \"10 in version 0.20 to 100 in 0.22.\", FutureWarning)\n"
     ]
    }
   ],
   "source": [
    "clf = rfc()\n",
    "clf.fit(X_train, y_train)\n",
    "y_pred = clf.predict(X_test)\n",
    "print(classification_report(y_test, y_pred))"
   ]
  },
  {
   "cell_type": "code",
   "execution_count": 20,
   "metadata": {},
   "outputs": [
    {
     "data": {
      "text/plain": [
       "50000"
      ]
     },
     "execution_count": 20,
     "metadata": {},
     "output_type": "execute_result"
    }
   ],
   "source": [
    "gnglove_file = '/scratch/um367/EMB/embeddings/wiki_gnglove.txt'\n",
    "gnglove = load_emb(gnglove_file, fullLoad=False, n_vecs=50000)\n",
    "len(gnglove)"
   ]
  },
  {
   "cell_type": "code",
   "execution_count": 23,
   "metadata": {},
   "outputs": [],
   "source": [
    "gnglove = normalizeEmb(gnglove)\n",
    "gnglove = removeProtectedAttribute(gnglove)"
   ]
  },
  {
   "cell_type": "code",
   "execution_count": 27,
   "metadata": {},
   "outputs": [],
   "source": [
    "maleFeatures,femaleFeatures = getConceptVectors(gnglove,concepts,maleBiasWords,femaleBiasWords)\n",
    "words = femaleBiasWords + maleBiasWords\n",
    "features = femaleFeatures + maleFeatures\n",
    "labels = [False for w in femaleFeatures] + [True for w in maleFeatures]"
   ]
  },
  {
   "cell_type": "code",
   "execution_count": 28,
   "metadata": {},
   "outputs": [
    {
     "name": "stdout",
     "output_type": "stream",
     "text": [
      "(700, 10)\n"
     ]
    }
   ],
   "source": [
    "X = np.array(features)\n",
    "Y = np.array(labels)\n",
    "X_train, X_test, y_train, y_test = train_test_split(X, Y, test_size=0.3, random_state=2018, shuffle=True)\n",
    "print(X_train.shape)"
   ]
  },
  {
   "cell_type": "code",
   "execution_count": 29,
   "metadata": {},
   "outputs": [
    {
     "name": "stdout",
     "output_type": "stream",
     "text": [
      "              precision    recall  f1-score   support\n",
      "\n",
      "       False       0.88      0.91      0.90       151\n",
      "        True       0.90      0.88      0.89       149\n",
      "\n",
      "    accuracy                           0.89       300\n",
      "   macro avg       0.89      0.89      0.89       300\n",
      "weighted avg       0.89      0.89      0.89       300\n",
      "\n"
     ]
    },
    {
     "name": "stderr",
     "output_type": "stream",
     "text": [
      "/home/um367/miniconda3/envs/bert/lib/python3.6/site-packages/sklearn/ensemble/forest.py:245: FutureWarning: The default value of n_estimators will change from 10 in version 0.20 to 100 in 0.22.\n",
      "  \"10 in version 0.20 to 100 in 0.22.\", FutureWarning)\n"
     ]
    }
   ],
   "source": [
    "clf = rfc()\n",
    "clf.fit(X_train, y_train)\n",
    "y_pred = clf.predict(X_test)\n",
    "print(classification_report(y_test, y_pred))"
   ]
  },
  {
   "cell_type": "code",
   "execution_count": null,
   "metadata": {},
   "outputs": [],
   "source": []
  }
 ],
 "metadata": {
  "kernelspec": {
   "display_name": "Python 3",
   "language": "python",
   "name": "python3"
  },
  "language_info": {
   "codemirror_mode": {
    "name": "ipython",
    "version": 3
   },
   "file_extension": ".py",
   "mimetype": "text/x-python",
   "name": "python",
   "nbconvert_exporter": "python",
   "pygments_lexer": "ipython3",
   "version": "3.6.6"
  }
 },
 "nbformat": 4,
 "nbformat_minor": 2
}
